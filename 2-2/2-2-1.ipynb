{
 "cells": [
  {
   "cell_type": "markdown",
   "metadata": {},
   "source": [
    "## Problem Set 2.2.1 - Adding values between a range \n",
    "The objective of this problem set is to write a function that takes some value/s and adds all the values between them - including the starting value, but excluding the final one. That is all. If you would like to challenge yourself, you should include [type hints](https://peps.python.org/pep-0484/), include a [docstring](https://peps.python.org/pep-0257/), and raise an [exception](https://realpython.com/python-exceptions/) when the parameters break assumptions. My hint for this problem set is that python provides the builtin `range()` function that can be used to develop your solution."
   ]
  },
  {
   "cell_type": "code",
   "execution_count": null,
   "metadata": {},
   "outputs": [],
   "source": [
    "# PUT YOUR SOLUTION HERE!"
   ]
  },
  {
   "cell_type": "markdown",
   "metadata": {},
   "source": [
    "### Solution\n",
    "Below you will find my model answer. If you are still working on your solution, I'd encourage you to hold off from reviewing the solution below until you've taken a stab at it. That said, if you are having difficulty, I welcome you using the solution below as a helper."
   ]
  },
  {
   "cell_type": "code",
   "execution_count": 2,
   "metadata": {},
   "outputs": [],
   "source": [
    "def _(end:int, start:int=0) -> int:\n",
    "    \"\"\"\n",
    "    Adds all the values between `start` and `end`.\n",
    "\n",
    "    Params:\n",
    "        end, int: required.\n",
    "        start, int: default 0.\n",
    "\n",
    "    Returns: int\n",
    "\n",
    "    Raises:\n",
    "        Exception when params are not of type int.\n",
    "\n",
    "    \"\"\"\n",
    "    \n",
    "    x = 0\n",
    "    \n",
    "    if type (end) != int or type (start) != int:\n",
    "        raise Exception (f\"Params 'start' and 'end' must be integers. However, 'start' is of type {type(start)} and 'end' is of type {type(end)}.\")\n",
    "\n",
    "    # Ref: https://www.w3schools.com/python/ref_func_range.asp\n",
    "    for i in range(start, end): \n",
    "        x+=i\n",
    "    \n",
    "    return x"
   ]
  },
  {
   "cell_type": "markdown",
   "metadata": {},
   "source": [
    "### Applying the function\n",
    "Now let's run the function using a couple different inputs, and see what happens."
   ]
  },
  {
   "cell_type": "code",
   "execution_count": 6,
   "metadata": {},
   "outputs": [
    {
     "data": {
      "text/plain": [
       "10"
      ]
     },
     "execution_count": 6,
     "metadata": {},
     "output_type": "execute_result"
    }
   ],
   "source": [
    "# Single integer input\n",
    "_(5)"
   ]
  },
  {
   "cell_type": "code",
   "execution_count": 7,
   "metadata": {},
   "outputs": [
    {
     "data": {
      "text/plain": [
       "10"
      ]
     },
     "execution_count": 7,
     "metadata": {},
     "output_type": "execute_result"
    }
   ],
   "source": [
    "# Two integer input\n",
    "_(5,1)"
   ]
  },
  {
   "cell_type": "code",
   "execution_count": 8,
   "metadata": {},
   "outputs": [
    {
     "data": {
      "text/plain": [
       "0"
      ]
     },
     "execution_count": 8,
     "metadata": {},
     "output_type": "execute_result"
    }
   ],
   "source": [
    "# Two integer input, with 'start' higher than 'end'\n",
    "_(5,9)"
   ]
  },
  {
   "cell_type": "code",
   "execution_count": 3,
   "metadata": {},
   "outputs": [
    {
     "data": {
      "text/plain": [
       "-45"
      ]
     },
     "execution_count": 3,
     "metadata": {},
     "output_type": "execute_result"
    }
   ],
   "source": [
    "# Two integer input, with a negative value for 'start'\n",
    "_(5,-10)"
   ]
  },
  {
   "cell_type": "code",
   "execution_count": 9,
   "metadata": {},
   "outputs": [
    {
     "ename": "Exception",
     "evalue": "Params 'start' and 'end' must be integers. However, 'start' is of type <class 'str'> and 'end' is of type <class 'int'>.",
     "output_type": "error",
     "traceback": [
      "\u001b[0;31m---------------------------------------------------------------------------\u001b[0m",
      "\u001b[0;31mException\u001b[0m                                 Traceback (most recent call last)",
      "\u001b[1;32m/home/sig/Code/python_intro/2.2/2.2.1.ipynb Cell 7\u001b[0m line \u001b[0;36m2\n\u001b[1;32m      <a href='vscode-notebook-cell:/home/sig/Code/python_intro/2.2/2.2.1.ipynb#X10sZmlsZQ%3D%3D?line=0'>1</a>\u001b[0m \u001b[39m# Trying to pass a string for 'start'\u001b[39;00m\n\u001b[0;32m----> <a href='vscode-notebook-cell:/home/sig/Code/python_intro/2.2/2.2.1.ipynb#X10sZmlsZQ%3D%3D?line=1'>2</a>\u001b[0m _(\u001b[39m5\u001b[39;49m,\u001b[39m\"\u001b[39;49m\u001b[39mgrumble\u001b[39;49m\u001b[39m\"\u001b[39;49m)\n",
      "\u001b[1;32m/home/sig/Code/python_intro/2.2/2.2.1.ipynb Cell 7\u001b[0m line \u001b[0;36m1\n\u001b[1;32m     <a href='vscode-notebook-cell:/home/sig/Code/python_intro/2.2/2.2.1.ipynb#X10sZmlsZQ%3D%3D?line=15'>16</a>\u001b[0m x \u001b[39m=\u001b[39m \u001b[39m0\u001b[39m\n\u001b[1;32m     <a href='vscode-notebook-cell:/home/sig/Code/python_intro/2.2/2.2.1.ipynb#X10sZmlsZQ%3D%3D?line=17'>18</a>\u001b[0m \u001b[39mif\u001b[39;00m \u001b[39mtype\u001b[39m (end) \u001b[39m!=\u001b[39m \u001b[39mint\u001b[39m \u001b[39mor\u001b[39;00m \u001b[39mtype\u001b[39m (start) \u001b[39m!=\u001b[39m \u001b[39mint\u001b[39m:\n\u001b[0;32m---> <a href='vscode-notebook-cell:/home/sig/Code/python_intro/2.2/2.2.1.ipynb#X10sZmlsZQ%3D%3D?line=18'>19</a>\u001b[0m     \u001b[39mraise\u001b[39;00m \u001b[39mException\u001b[39;00m (\u001b[39mf\u001b[39m\u001b[39m\"\u001b[39m\u001b[39mParams \u001b[39m\u001b[39m'\u001b[39m\u001b[39mstart\u001b[39m\u001b[39m'\u001b[39m\u001b[39m and \u001b[39m\u001b[39m'\u001b[39m\u001b[39mend\u001b[39m\u001b[39m'\u001b[39m\u001b[39m must be integers. However, \u001b[39m\u001b[39m'\u001b[39m\u001b[39mstart\u001b[39m\u001b[39m'\u001b[39m\u001b[39m is of type \u001b[39m\u001b[39m{\u001b[39;00m\u001b[39mtype\u001b[39m(start)\u001b[39m}\u001b[39;00m\u001b[39m and \u001b[39m\u001b[39m'\u001b[39m\u001b[39mend\u001b[39m\u001b[39m'\u001b[39m\u001b[39m is of type \u001b[39m\u001b[39m{\u001b[39;00m\u001b[39mtype\u001b[39m(end)\u001b[39m}\u001b[39;00m\u001b[39m.\u001b[39m\u001b[39m\"\u001b[39m)\n\u001b[1;32m     <a href='vscode-notebook-cell:/home/sig/Code/python_intro/2.2/2.2.1.ipynb#X10sZmlsZQ%3D%3D?line=20'>21</a>\u001b[0m \u001b[39m# Ref: https://www.w3schools.com/python/ref_func_range.asp\u001b[39;00m\n\u001b[1;32m     <a href='vscode-notebook-cell:/home/sig/Code/python_intro/2.2/2.2.1.ipynb#X10sZmlsZQ%3D%3D?line=21'>22</a>\u001b[0m \u001b[39mfor\u001b[39;00m i \u001b[39min\u001b[39;00m \u001b[39mrange\u001b[39m(start, end): \n",
      "\u001b[0;31mException\u001b[0m: Params 'start' and 'end' must be integers. However, 'start' is of type <class 'str'> and 'end' is of type <class 'int'>."
     ]
    }
   ],
   "source": [
    "# Trying to pass a string for 'start'\n",
    "_(5,\"grumble\")"
   ]
  },
  {
   "cell_type": "code",
   "execution_count": 10,
   "metadata": {},
   "outputs": [
    {
     "ename": "Exception",
     "evalue": "Params 'start' and 'end' must be integers. However, 'start' is of type <class 'int'> and 'end' is of type <class 'str'>.",
     "output_type": "error",
     "traceback": [
      "\u001b[0;31m---------------------------------------------------------------------------\u001b[0m",
      "\u001b[0;31mException\u001b[0m                                 Traceback (most recent call last)",
      "\u001b[1;32m/home/sig/Code/python_intro/2.2/2.2.1.ipynb Cell 8\u001b[0m line \u001b[0;36m2\n\u001b[1;32m      <a href='vscode-notebook-cell:/home/sig/Code/python_intro/2.2/2.2.1.ipynb#X11sZmlsZQ%3D%3D?line=0'>1</a>\u001b[0m \u001b[39m# Trying to pass a string for 'end'\u001b[39;00m\n\u001b[0;32m----> <a href='vscode-notebook-cell:/home/sig/Code/python_intro/2.2/2.2.1.ipynb#X11sZmlsZQ%3D%3D?line=1'>2</a>\u001b[0m _(\u001b[39m\"\u001b[39;49m\u001b[39mgrumble\u001b[39;49m\u001b[39m\"\u001b[39;49m,\u001b[39m9\u001b[39;49m)\n",
      "\u001b[1;32m/home/sig/Code/python_intro/2.2/2.2.1.ipynb Cell 8\u001b[0m line \u001b[0;36m1\n\u001b[1;32m     <a href='vscode-notebook-cell:/home/sig/Code/python_intro/2.2/2.2.1.ipynb#X11sZmlsZQ%3D%3D?line=15'>16</a>\u001b[0m x \u001b[39m=\u001b[39m \u001b[39m0\u001b[39m\n\u001b[1;32m     <a href='vscode-notebook-cell:/home/sig/Code/python_intro/2.2/2.2.1.ipynb#X11sZmlsZQ%3D%3D?line=17'>18</a>\u001b[0m \u001b[39mif\u001b[39;00m \u001b[39mtype\u001b[39m (end) \u001b[39m!=\u001b[39m \u001b[39mint\u001b[39m \u001b[39mor\u001b[39;00m \u001b[39mtype\u001b[39m (start) \u001b[39m!=\u001b[39m \u001b[39mint\u001b[39m:\n\u001b[0;32m---> <a href='vscode-notebook-cell:/home/sig/Code/python_intro/2.2/2.2.1.ipynb#X11sZmlsZQ%3D%3D?line=18'>19</a>\u001b[0m     \u001b[39mraise\u001b[39;00m \u001b[39mException\u001b[39;00m (\u001b[39mf\u001b[39m\u001b[39m\"\u001b[39m\u001b[39mParams \u001b[39m\u001b[39m'\u001b[39m\u001b[39mstart\u001b[39m\u001b[39m'\u001b[39m\u001b[39m and \u001b[39m\u001b[39m'\u001b[39m\u001b[39mend\u001b[39m\u001b[39m'\u001b[39m\u001b[39m must be integers. However, \u001b[39m\u001b[39m'\u001b[39m\u001b[39mstart\u001b[39m\u001b[39m'\u001b[39m\u001b[39m is of type \u001b[39m\u001b[39m{\u001b[39;00m\u001b[39mtype\u001b[39m(start)\u001b[39m}\u001b[39;00m\u001b[39m and \u001b[39m\u001b[39m'\u001b[39m\u001b[39mend\u001b[39m\u001b[39m'\u001b[39m\u001b[39m is of type \u001b[39m\u001b[39m{\u001b[39;00m\u001b[39mtype\u001b[39m(end)\u001b[39m}\u001b[39;00m\u001b[39m.\u001b[39m\u001b[39m\"\u001b[39m)\n\u001b[1;32m     <a href='vscode-notebook-cell:/home/sig/Code/python_intro/2.2/2.2.1.ipynb#X11sZmlsZQ%3D%3D?line=20'>21</a>\u001b[0m \u001b[39m# Ref: https://www.w3schools.com/python/ref_func_range.asp\u001b[39;00m\n\u001b[1;32m     <a href='vscode-notebook-cell:/home/sig/Code/python_intro/2.2/2.2.1.ipynb#X11sZmlsZQ%3D%3D?line=21'>22</a>\u001b[0m \u001b[39mfor\u001b[39;00m i \u001b[39min\u001b[39;00m \u001b[39mrange\u001b[39m(start, end): \n",
      "\u001b[0;31mException\u001b[0m: Params 'start' and 'end' must be integers. However, 'start' is of type <class 'int'> and 'end' is of type <class 'str'>."
     ]
    }
   ],
   "source": [
    "# Trying to pass a string for 'end'\n",
    "_(\"grumble\",9)"
   ]
  },
  {
   "cell_type": "markdown",
   "metadata": {},
   "source": [
    "### Summarizing our findings\n",
    "\n",
    "Maybe you're interested to know why the range() function does not include the final value - here's a good discussion of practical reasons why that may be the case: https://stackoverflow.com/a/35039558/13301284. \n",
    "\n"
   ]
  }
 ],
 "metadata": {
  "kernelspec": {
   "display_name": "Python 3 (ipykernel)",
   "language": "python",
   "name": "python3"
  },
  "language_info": {
   "codemirror_mode": {
    "name": "ipython",
    "version": 3
   },
   "file_extension": ".py",
   "mimetype": "text/x-python",
   "name": "python",
   "nbconvert_exporter": "python",
   "pygments_lexer": "ipython3",
   "version": "3.8.10"
  }
 },
 "nbformat": 4,
 "nbformat_minor": 2
}
