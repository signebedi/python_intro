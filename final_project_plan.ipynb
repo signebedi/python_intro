{
 "cells": [
  {
   "cell_type": "markdown",
   "metadata": {},
   "source": [
    "#### Final Project Plan\n",
    "As you go through the course, I ask you to start thinking about your final project. Your final project can take many forms - a straightforward python script, a full on python library, or even a Jupyter Notebook. To get you thinking about what it is you want to accomplish, and how you'll get their, I'd like you to gradually fill in your answers for the following questions as we cover the corresponding material in class."
   ]
  },
  {
   "cell_type": "markdown",
   "metadata": {},
   "source": [
    "**Please start by filling out your names below**"
   ]
  },
  {
   "cell_type": "markdown",
   "metadata": {},
   "source": [
    "Your Names Here"
   ]
  },
  {
   "cell_type": "markdown",
   "metadata": {},
   "source": [
    "1. Tell me the objective of your final project. I want to know what is the \"thing\" you hope to create or the \"process\" that you hope to model."
   ]
  },
  {
   "cell_type": "markdown",
   "metadata": {},
   "source": [
    "Your Response Here"
   ]
  },
  {
   "cell_type": "markdown",
   "metadata": {},
   "source": [
    "2. Given the objective of your final project, what kind of paradigmatic approach - eg. functional, object-oriented (using classes), neither, or both - do you think will make the most sense? Why?"
   ]
  },
  {
   "cell_type": "markdown",
   "metadata": {},
   "source": [
    "Your Response Here"
   ]
  },
  {
   "cell_type": "markdown",
   "metadata": {},
   "source": [
    "3. Tell me about the parameters / inputs that your proposed approach from (2) about would entail - what kind of user inputs will you need, what kinds of parameters (positional or keyword arguments) will they be, and what data types will they be provided as?"
   ]
  },
  {
   "cell_type": "markdown",
   "metadata": {},
   "source": [
    "Your Response Here"
   ]
  },
  {
   "cell_type": "markdown",
   "metadata": {},
   "source": [
    "4. What external libraries do you think you will need or like to use for your project? Feel free to do some outside research in providing your answers to this question."
   ]
  },
  {
   "cell_type": "markdown",
   "metadata": {},
   "source": [
    "Your Response Here"
   ]
  },
  {
   "cell_type": "markdown",
   "metadata": {},
   "source": [
    "5. What are some of the assumptions that you will have about, for example, the structure and type of data that your project will need to process? How do you plan to test these assumptions?"
   ]
  },
  {
   "cell_type": "markdown",
   "metadata": {},
   "source": [
    "Your Response Here"
   ]
  },
  {
   "cell_type": "markdown",
   "metadata": {},
   "source": [
    "6. How do you plan to delineate roles/responsibilities for your project? For example, projects often have a **project manager** responsible for managing timelines, writing documentation, and communicating with the customer (in this case, I am the customer); a **lead developer** responsible for first stab at the code; a **code reviewer** responsible to reading through the code, suggesting edits / fixes, and helping write tests for assumptions."
   ]
  },
  {
   "cell_type": "markdown",
   "metadata": {},
   "source": [
    "Your Response Here"
   ]
  }
 ],
 "metadata": {
  "language_info": {
   "name": "python"
  }
 },
 "nbformat": 4,
 "nbformat_minor": 2
}
