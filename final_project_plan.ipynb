{
 "cells": [
  {
   "cell_type": "markdown",
   "metadata": {},
   "source": [
    "#### Final Project Plan\n",
    "As you go through the course, I ask you to start thinking about your final project. Your final project can take many forms - a straightforward python script, a full on python library, or even a Jupyter Notebook. To get you thinking about what it is you want to accomplish, and how you'll get their, I'd like you to gradually fill in your answers for the following questions as we cover the corresponding material in class."
   ]
  },
  {
   "cell_type": "markdown",
   "metadata": {},
   "source": [
    "1. Tell me the objective of your final project. I want to know what is the \"thing\" you hope to create or the \"process\" that you hope to model."
   ]
  },
  {
   "cell_type": "markdown",
   "metadata": {},
   "source": [
    "Your Response Here"
   ]
  },
  {
   "cell_type": "markdown",
   "metadata": {},
   "source": [
    "2. Given the objective of your final project, what kind of paradigmatic approach - eg. functional, object-oriented (using classes), neither, or both - do you think will make the most sense? Why?"
   ]
  },
  {
   "cell_type": "markdown",
   "metadata": {},
   "source": [
    "Your Response Here"
   ]
  },
  {
   "cell_type": "markdown",
   "metadata": {},
   "source": [
    "3. Tell me about the parameters / inputs that your proposed approach from (2) about would entail - what kind of user inputs will you need, what kinds of parameters (positional or keyword arguments) will they be, and what data types will they be provided as?"
   ]
  },
  {
   "cell_type": "markdown",
   "metadata": {},
   "source": [
    "Your Response Here"
   ]
  },
  {
   "cell_type": "markdown",
   "metadata": {},
   "source": [
    "4. What external libraries do you think you will need or like to use for your project? Feel free to do some outside research in providing your answers to this question."
   ]
  },
  {
   "cell_type": "markdown",
   "metadata": {},
   "source": [
    "Your Response Here"
   ]
  },
  {
   "cell_type": "markdown",
   "metadata": {},
   "source": [
    "5. "
   ]
  },
  {
   "cell_type": "markdown",
   "metadata": {},
   "source": [
    "Your Response Here"
   ]
  }
 ],
 "metadata": {
  "language_info": {
   "name": "python"
  }
 },
 "nbformat": 4,
 "nbformat_minor": 2
}
