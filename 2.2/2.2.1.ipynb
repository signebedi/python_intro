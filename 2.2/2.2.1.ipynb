{
 "cells": [
  {
   "cell_type": "code",
   "execution_count": null,
   "metadata": {},
   "outputs": [],
   "source": [
    "### Adding values between a range\n",
    "The objective of this problem set is to write a function that takes some value/s and adds all the values between them - including the starting value, but excluding the final one."
   ]
  },
  {
   "cell_type": "code",
   "execution_count": null,
   "metadata": {},
   "outputs": [],
   "source": [
    "def _(end:int, start:int=0) -> int:\n",
    "    \"\"\"\n",
    "    Adds all the values between `start` and `end`.\n",
    "\n",
    "    Params:\n",
    "        end, int: required.\n",
    "        start, int: default 0.\n",
    "\n",
    "    Returns: int\n",
    "\n",
    "    Raises:\n",
    "        Exception when params are not of type int.\n",
    "\n",
    "    \"\"\"\n",
    "    \n",
    "    x = 0\n",
    "    \n",
    "    if type (end) != int or type (start) != int:\n",
    "        raise Exception (f\"Params 'start' and 'end' must be integers. However, 'start' is of type {type(start)} and 'end' is of type {type(end)}.\")\n",
    "\n",
    "    # Ref: https://www.w3schools.com/python/ref_func_range.asp\n",
    "    for i in range(start, end): \n",
    "        x+=i\n",
    "    \n",
    "    return x"
   ]
  }
 ],
 "metadata": {
  "kernelspec": {
   "display_name": "Python 3",
   "language": "python",
   "name": "python3"
  },
  "language_info": {
   "name": "python",
   "version": "3.10.13"
  }
 },
 "nbformat": 4,
 "nbformat_minor": 2
}
