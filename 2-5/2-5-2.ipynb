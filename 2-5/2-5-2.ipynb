{
 "cells": [
  {
   "cell_type": "markdown",
   "metadata": {},
   "source": [
    "### Problem Set 2.5.2 - Create a circle through inheritance\n",
    "Previously, we've created a [class for a Circle](2-5-1.ipynb). Notably, a circle is a kind of ellipse where the the major and minor axis are equal in length. As such, we have an opportunity to illustrate the concept of [inheritance](https://realpython.com/inheritance-composition-python/), which models a relationship where some X is a part of some larger class Y (for example, a frog is an amphibian). Here, I want you to define a class Ellipse. Next, I want you to create a child class called Circle. It should include some of the basic properties of a circle and ellipse, like circumference and area. When you create a subclass, you will often want to call [`super()`](https://realpython.com/inheritance-composition-python/#the-object-super-class), which allows you to reference properties and methods of the parent class.  \n",
    "\n",
    "As always, you should include [type hints](https://peps.python.org/pep-0484/), include a [docstring](https://peps.python.org/pep-0257/), and raise an [exception](https://realpython.com/python-exceptions/) when the parameters break assumptions."
   ]
  }
 ],
 "metadata": {
  "language_info": {
   "name": "python"
  }
 },
 "nbformat": 4,
 "nbformat_minor": 2
}
