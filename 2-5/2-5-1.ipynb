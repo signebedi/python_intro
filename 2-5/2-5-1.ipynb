{
 "cells": [
  {
   "cell_type": "markdown",
   "metadata": {},
   "source": [
    "## Problem Set 2.5.1 - Create a class for a circle\n",
    "The objective of this problem set is to illustrate how python classes work in an applied format. Before tackling this problem set, I highly encourage you listen to this [discussion of principles in python classes](https://www.youtube.com/watch?v=HTLu2DFOdTg) by Raymond Hettinger - it's old, but lively and a useful way for us to get started. For this problem set, I want you to implement a class that defines a circle. I want you to accept relevant params to define the circle at instantiation. I want you to define a string representation of the Circle object using [\\_\\_repr\\_\\_](https://docs.python.org/3/reference/datamodel.html#object.__repr__), which is a python [dunder method](https://realpython.com/python-magic-methods/). I also want you to consider how to you want to store certain properties of the circle - like its area - either as instance variables (more efficient when you have fewer changes to an instances parameters) or as methods (more efficient if you are planning to frequently change the circle's dimensions). As always, include [type hints](https://peps.python.org/pep-0484/), a [docstring](https://peps.python.org/pep-0257/), and raise an [exception](https://realpython.com/python-exceptions/) when the parameters break assumptions"
   ]
  },
  {
   "cell_type": "code",
   "execution_count": 1,
   "metadata": {},
   "outputs": [],
   "source": [
    "# PUT YOUR SOLUTION HERE!"
   ]
  },
  {
   "cell_type": "markdown",
   "metadata": {},
   "source": [
    "### Solution\n",
    "Below you will find my model answer. If you are still working on your solution, I'd encourage you to hold off from reviewing the solution below until you've taken a stab at it. That said, if you are having difficulty, I welcome you using the solution below as a helper."
   ]
  },
  {
   "cell_type": "code",
   "execution_count": 2,
   "metadata": {},
   "outputs": [],
   "source": [
    "# Approach 1: using instance variables\n",
    "\n",
    "from math import pi\n",
    "from typing import Union\n",
    "\n",
    "class Circle:\n",
    "    \"\"\"\n",
    "    Advanced circle operations, storing circle details as instance variables.\n",
    "\n",
    "    Attributes:\n",
    "        radius (Union[int, float]): Radius of the circle, defaults to 1.\n",
    "        area (float): Area of the circle, calculated based on the radius.\n",
    "        diameter (float): Diameter of the circle, calculated based on the radius.\n",
    "        circumference (float): Circumference of the circle, calculated based on the radius.\n",
    "    \"\"\"\n",
    "\n",
    "    def __init__(self, radius:Union[int, float]=1) -> None:\n",
    "        self.update_r(radius) \n",
    "\n",
    "    def update_r(self, radius:Union[int, float]=1) -> None:\n",
    "        \"\"\"\n",
    "        Update the radius of the circle.\n",
    "\n",
    "        Params:\n",
    "            radius, Union(int, float), optional: defaults to 1.\n",
    "        \"\"\"\n",
    "\n",
    "        if not isinstance(radius, (int, float)):\n",
    "            raise TypeError(f\"Radius must be of type int or float\")\n",
    "\n",
    "        if radius <= 0:\n",
    "            raise ValueError(\"Radius must be positive\")\n",
    "\n",
    "        self.radius = radius\n",
    "        self.area = pi * radius ** 2\n",
    "        self.diameter = 2 * radius\n",
    "        self.circumference = 2 * pi * radius \n",
    "\n",
    "    def __repr__(self) -> str:\n",
    "        return (\n",
    "            'Circle('\n",
    "            f'radius={self.radius!r}, area={self.area!r}, '\n",
    "            f'diameter={self.diameter!r}, circumference={self.circumference!r})'\n",
    "        )\n"
   ]
  },
  {
   "cell_type": "code",
   "execution_count": 3,
   "metadata": {},
   "outputs": [],
   "source": [
    "# Approach 2: using class methods\n",
    "from math import pi\n",
    "from typing import Union\n",
    "\n",
    "class Circle2:\n",
    "    \"\"\"\n",
    "    Advanced circle operations, calculating circle details using class methods.\n",
    "\n",
    "    Attributes:\n",
    "        radius (Union[int, float]): Radius of the circle, defaults to 1.\n",
    "    \"\"\"\n",
    "\n",
    "    def __init__(self, radius:Union[int, float]=1) -> None:\n",
    "        self.set_radius(radius) \n",
    "\n",
    "    def set_radius(self, radius:Union[int, float]=1) -> None:\n",
    "        \"\"\"\n",
    "        Set the radius of the circle.\n",
    "\n",
    "        Params:\n",
    "            radius, Union(int, float), optional: defaults to 1.\n",
    "        \"\"\"\n",
    "\n",
    "        if not isinstance(radius, (int, float)):\n",
    "            raise TypeError(f\"Radius must be of type int or float\")\n",
    "\n",
    "        if radius <= 0:\n",
    "            raise ValueError(\"Radius must be positive\")\n",
    "\n",
    "        self.radius = radius\n",
    "\n",
    "\n",
    "    def get_radius(self) -> Union[int, float]:\n",
    "        return self.radius\n",
    "\n",
    "\n",
    "    def get_area(self) -> Union[int, float]:\n",
    "        return pi * self.radius ** 2\n",
    "\n",
    "\n",
    "    def get_diameter(self) -> Union[int, float]:\n",
    "        return 2 * self.radius\n",
    "\n",
    "\n",
    "    def get_circumference(self) -> Union[int, float]:\n",
    "        return 2 * pi * self.radius \n",
    "\n",
    "    def __repr__(self) -> str:\n",
    "        return (\n",
    "            'Circle('\n",
    "            f'radius={self.get_radius()!r}, area={self.get_area()!r}, '\n",
    "            f'diameter={self.get_diameter()!r}, circumference={self.get_circumference()!r})'\n",
    "        )\n"
   ]
  },
  {
   "cell_type": "markdown",
   "metadata": {},
   "source": [
    "### Application\n",
    "Now let's run things using a couple different inputs, and see what happens."
   ]
  },
  {
   "cell_type": "markdown",
   "metadata": {},
   "source": [
    "#### Approach 1: using instance variables"
   ]
  },
  {
   "cell_type": "code",
   "execution_count": 4,
   "metadata": {},
   "outputs": [
    {
     "name": "stdout",
     "output_type": "stream",
     "text": [
      "Circle(radius=7, area=153.93804002589985, diameter=14, circumference=43.982297150257104)\n"
     ]
    }
   ],
   "source": [
    "# Let's start by creating a Circle using the first approach and see what it looks like to access its data\n",
    "circ = Circle(7)\n",
    "print(circ)"
   ]
  },
  {
   "cell_type": "code",
   "execution_count": 5,
   "metadata": {},
   "outputs": [
    {
     "name": "stdout",
     "output_type": "stream",
     "text": [
      "Circle(radius=9, area=254.46900494077323, diameter=18, circumference=56.548667764616276)\n"
     ]
    }
   ],
   "source": [
    "# Now let's run the update_r method and see how that works\n",
    "circ.update_r(9)\n",
    "print(circ)"
   ]
  },
  {
   "cell_type": "code",
   "execution_count": 6,
   "metadata": {},
   "outputs": [
    {
     "ename": "TypeError",
     "evalue": "Radius must be of type int or float",
     "output_type": "error",
     "traceback": [
      "\u001b[0;31m---------------------------------------------------------------------------\u001b[0m",
      "\u001b[0;31mTypeError\u001b[0m                                 Traceback (most recent call last)",
      "\u001b[1;32m/home/sig/Code/python_intro/2-5/2-5-1.ipynb Cell 10\u001b[0m line \u001b[0;36m2\n\u001b[1;32m      <a href='vscode-notebook-cell:/home/sig/Code/python_intro/2-5/2-5-1.ipynb#X12sZmlsZQ%3D%3D?line=0'>1</a>\u001b[0m \u001b[39m# Now let's try to pass improper values to the class at instantiation\u001b[39;00m\n\u001b[0;32m----> <a href='vscode-notebook-cell:/home/sig/Code/python_intro/2-5/2-5-1.ipynb#X12sZmlsZQ%3D%3D?line=1'>2</a>\u001b[0m circ \u001b[39m=\u001b[39m Circle(\u001b[39m\"\u001b[39;49m\u001b[39mblargh\u001b[39;49m\u001b[39m\"\u001b[39;49m)\n",
      "\u001b[1;32m/home/sig/Code/python_intro/2-5/2-5-1.ipynb Cell 10\u001b[0m line \u001b[0;36m1\n\u001b[1;32m     <a href='vscode-notebook-cell:/home/sig/Code/python_intro/2-5/2-5-1.ipynb#X12sZmlsZQ%3D%3D?line=16'>17</a>\u001b[0m \u001b[39mdef\u001b[39;00m \u001b[39m__init__\u001b[39m(\u001b[39mself\u001b[39m, radius:Union[\u001b[39mint\u001b[39m, \u001b[39mfloat\u001b[39m]\u001b[39m=\u001b[39m\u001b[39m1\u001b[39m) \u001b[39m-\u001b[39m\u001b[39m>\u001b[39m \u001b[39mNone\u001b[39;00m:\n\u001b[0;32m---> <a href='vscode-notebook-cell:/home/sig/Code/python_intro/2-5/2-5-1.ipynb#X12sZmlsZQ%3D%3D?line=17'>18</a>\u001b[0m     \u001b[39mself\u001b[39;49m\u001b[39m.\u001b[39;49mupdate_r(radius)\n",
      "\u001b[1;32m/home/sig/Code/python_intro/2-5/2-5-1.ipynb Cell 10\u001b[0m line \u001b[0;36m2\n\u001b[1;32m     <a href='vscode-notebook-cell:/home/sig/Code/python_intro/2-5/2-5-1.ipynb#X12sZmlsZQ%3D%3D?line=20'>21</a>\u001b[0m \u001b[39m\u001b[39m\u001b[39m\"\"\"\u001b[39;00m\n\u001b[1;32m     <a href='vscode-notebook-cell:/home/sig/Code/python_intro/2-5/2-5-1.ipynb#X12sZmlsZQ%3D%3D?line=21'>22</a>\u001b[0m \u001b[39mUpdate the radius of the circle.\u001b[39;00m\n\u001b[1;32m     <a href='vscode-notebook-cell:/home/sig/Code/python_intro/2-5/2-5-1.ipynb#X12sZmlsZQ%3D%3D?line=22'>23</a>\u001b[0m \n\u001b[1;32m     <a href='vscode-notebook-cell:/home/sig/Code/python_intro/2-5/2-5-1.ipynb#X12sZmlsZQ%3D%3D?line=23'>24</a>\u001b[0m \u001b[39mParams:\u001b[39;00m\n\u001b[1;32m     <a href='vscode-notebook-cell:/home/sig/Code/python_intro/2-5/2-5-1.ipynb#X12sZmlsZQ%3D%3D?line=24'>25</a>\u001b[0m \u001b[39m    radius, Union(int, float), optional: defaults to 1.\u001b[39;00m\n\u001b[1;32m     <a href='vscode-notebook-cell:/home/sig/Code/python_intro/2-5/2-5-1.ipynb#X12sZmlsZQ%3D%3D?line=25'>26</a>\u001b[0m \u001b[39m\"\"\"\u001b[39;00m\n\u001b[1;32m     <a href='vscode-notebook-cell:/home/sig/Code/python_intro/2-5/2-5-1.ipynb#X12sZmlsZQ%3D%3D?line=27'>28</a>\u001b[0m \u001b[39mif\u001b[39;00m \u001b[39mnot\u001b[39;00m \u001b[39misinstance\u001b[39m(radius, (\u001b[39mint\u001b[39m, \u001b[39mfloat\u001b[39m)):\n\u001b[0;32m---> <a href='vscode-notebook-cell:/home/sig/Code/python_intro/2-5/2-5-1.ipynb#X12sZmlsZQ%3D%3D?line=28'>29</a>\u001b[0m     \u001b[39mraise\u001b[39;00m \u001b[39mTypeError\u001b[39;00m(\u001b[39mf\u001b[39m\u001b[39m\"\u001b[39m\u001b[39mRadius must be of type int or float\u001b[39m\u001b[39m\"\u001b[39m)\n\u001b[1;32m     <a href='vscode-notebook-cell:/home/sig/Code/python_intro/2-5/2-5-1.ipynb#X12sZmlsZQ%3D%3D?line=30'>31</a>\u001b[0m \u001b[39mif\u001b[39;00m radius \u001b[39m<\u001b[39m\u001b[39m=\u001b[39m \u001b[39m0\u001b[39m:\n\u001b[1;32m     <a href='vscode-notebook-cell:/home/sig/Code/python_intro/2-5/2-5-1.ipynb#X12sZmlsZQ%3D%3D?line=31'>32</a>\u001b[0m     \u001b[39mraise\u001b[39;00m \u001b[39mValueError\u001b[39;00m(\u001b[39m\"\u001b[39m\u001b[39mRadius must be positive\u001b[39m\u001b[39m\"\u001b[39m)\n",
      "\u001b[0;31mTypeError\u001b[0m: Radius must be of type int or float"
     ]
    }
   ],
   "source": [
    "# Now let's try to pass improper values to the class at instantiation\n",
    "circ = Circle(\"blargh\")"
   ]
  },
  {
   "cell_type": "code",
   "execution_count": 7,
   "metadata": {},
   "outputs": [
    {
     "ename": "ValueError",
     "evalue": "Radius must be positive",
     "output_type": "error",
     "traceback": [
      "\u001b[0;31m---------------------------------------------------------------------------\u001b[0m",
      "\u001b[0;31mValueError\u001b[0m                                Traceback (most recent call last)",
      "\u001b[1;32m/home/sig/Code/python_intro/2-5/2-5-1.ipynb Cell 11\u001b[0m line \u001b[0;36m2\n\u001b[1;32m      <a href='vscode-notebook-cell:/home/sig/Code/python_intro/2-5/2-5-1.ipynb#X13sZmlsZQ%3D%3D?line=0'>1</a>\u001b[0m \u001b[39m# Another improper value:\u001b[39;00m\n\u001b[0;32m----> <a href='vscode-notebook-cell:/home/sig/Code/python_intro/2-5/2-5-1.ipynb#X13sZmlsZQ%3D%3D?line=1'>2</a>\u001b[0m circ \u001b[39m=\u001b[39m Circle(\u001b[39m-\u001b[39;49m\u001b[39m8\u001b[39;49m)\n",
      "\u001b[1;32m/home/sig/Code/python_intro/2-5/2-5-1.ipynb Cell 11\u001b[0m line \u001b[0;36m1\n\u001b[1;32m     <a href='vscode-notebook-cell:/home/sig/Code/python_intro/2-5/2-5-1.ipynb#X13sZmlsZQ%3D%3D?line=16'>17</a>\u001b[0m \u001b[39mdef\u001b[39;00m \u001b[39m__init__\u001b[39m(\u001b[39mself\u001b[39m, radius:Union[\u001b[39mint\u001b[39m, \u001b[39mfloat\u001b[39m]\u001b[39m=\u001b[39m\u001b[39m1\u001b[39m) \u001b[39m-\u001b[39m\u001b[39m>\u001b[39m \u001b[39mNone\u001b[39;00m:\n\u001b[0;32m---> <a href='vscode-notebook-cell:/home/sig/Code/python_intro/2-5/2-5-1.ipynb#X13sZmlsZQ%3D%3D?line=17'>18</a>\u001b[0m     \u001b[39mself\u001b[39;49m\u001b[39m.\u001b[39;49mupdate_r(radius)\n",
      "\u001b[1;32m/home/sig/Code/python_intro/2-5/2-5-1.ipynb Cell 11\u001b[0m line \u001b[0;36m3\n\u001b[1;32m     <a href='vscode-notebook-cell:/home/sig/Code/python_intro/2-5/2-5-1.ipynb#X13sZmlsZQ%3D%3D?line=28'>29</a>\u001b[0m     \u001b[39mraise\u001b[39;00m \u001b[39mTypeError\u001b[39;00m(\u001b[39mf\u001b[39m\u001b[39m\"\u001b[39m\u001b[39mRadius must be of type int or float\u001b[39m\u001b[39m\"\u001b[39m)\n\u001b[1;32m     <a href='vscode-notebook-cell:/home/sig/Code/python_intro/2-5/2-5-1.ipynb#X13sZmlsZQ%3D%3D?line=30'>31</a>\u001b[0m \u001b[39mif\u001b[39;00m radius \u001b[39m<\u001b[39m\u001b[39m=\u001b[39m \u001b[39m0\u001b[39m:\n\u001b[0;32m---> <a href='vscode-notebook-cell:/home/sig/Code/python_intro/2-5/2-5-1.ipynb#X13sZmlsZQ%3D%3D?line=31'>32</a>\u001b[0m     \u001b[39mraise\u001b[39;00m \u001b[39mValueError\u001b[39;00m(\u001b[39m\"\u001b[39m\u001b[39mRadius must be positive\u001b[39m\u001b[39m\"\u001b[39m)\n\u001b[1;32m     <a href='vscode-notebook-cell:/home/sig/Code/python_intro/2-5/2-5-1.ipynb#X13sZmlsZQ%3D%3D?line=33'>34</a>\u001b[0m \u001b[39mself\u001b[39m\u001b[39m.\u001b[39mradius \u001b[39m=\u001b[39m radius\n\u001b[1;32m     <a href='vscode-notebook-cell:/home/sig/Code/python_intro/2-5/2-5-1.ipynb#X13sZmlsZQ%3D%3D?line=34'>35</a>\u001b[0m \u001b[39mself\u001b[39m\u001b[39m.\u001b[39marea \u001b[39m=\u001b[39m pi \u001b[39m*\u001b[39m radius \u001b[39m*\u001b[39m\u001b[39m*\u001b[39m \u001b[39m2\u001b[39m\n",
      "\u001b[0;31mValueError\u001b[0m: Radius must be positive"
     ]
    }
   ],
   "source": [
    "# Another improper value:\n",
    "circ = Circle(-8)"
   ]
  },
  {
   "cell_type": "markdown",
   "metadata": {},
   "source": [
    "#### Approach 2: using class methods"
   ]
  },
  {
   "cell_type": "code",
   "execution_count": 8,
   "metadata": {},
   "outputs": [
    {
     "name": "stdout",
     "output_type": "stream",
     "text": [
      "Circle(radius=7, area=153.93804002589985, diameter=14, circumference=43.982297150257104)\n"
     ]
    }
   ],
   "source": [
    "# Let's try things using approach 2\n",
    "circ = Circle2(7)\n",
    "print(circ)"
   ]
  },
  {
   "cell_type": "code",
   "execution_count": 9,
   "metadata": {},
   "outputs": [
    {
     "name": "stdout",
     "output_type": "stream",
     "text": [
      "Radius:  7 \n",
      "Diameter:  14 \n",
      "Area 153.93804002589985 \n",
      "Circumference:  43.982297150257104\n"
     ]
    }
   ],
   "source": [
    "# Now let's see what it looks like to access each method individually\n",
    "print(\"Radius: \", circ.get_radius(), \"\\nDiameter: \", circ.get_diameter(), \"\\nArea\", circ.get_area(), \\\n",
    "    \"\\nCircumference: \", circ.get_circumference(), )\n"
   ]
  },
  {
   "cell_type": "code",
   "execution_count": 10,
   "metadata": {},
   "outputs": [
    {
     "name": "stdout",
     "output_type": "stream",
     "text": [
      "Circle(radius=19, area=1134.1149479459152, diameter=38, circumference=119.38052083641213)\n"
     ]
    }
   ],
   "source": [
    "# Now let's try updating values\n",
    "circ.set_radius(19)\n",
    "print(circ)"
   ]
  },
  {
   "cell_type": "code",
   "execution_count": 11,
   "metadata": {},
   "outputs": [
    {
     "ename": "TypeError",
     "evalue": "Radius must be of type int or float",
     "output_type": "error",
     "traceback": [
      "\u001b[0;31m---------------------------------------------------------------------------\u001b[0m",
      "\u001b[0;31mTypeError\u001b[0m                                 Traceback (most recent call last)",
      "\u001b[1;32m/home/sig/Code/python_intro/2-5/2-5-1.ipynb Cell 16\u001b[0m line \u001b[0;36m2\n\u001b[1;32m      <a href='vscode-notebook-cell:/home/sig/Code/python_intro/2-5/2-5-1.ipynb#X21sZmlsZQ%3D%3D?line=0'>1</a>\u001b[0m \u001b[39m# Let's try to set an improper radius value and verify the proper exception is raised\u001b[39;00m\n\u001b[0;32m----> <a href='vscode-notebook-cell:/home/sig/Code/python_intro/2-5/2-5-1.ipynb#X21sZmlsZQ%3D%3D?line=1'>2</a>\u001b[0m circ\u001b[39m.\u001b[39;49mset_radius(\u001b[39m\"\u001b[39;49m\u001b[39mblargh\u001b[39;49m\u001b[39m\"\u001b[39;49m)\n",
      "\u001b[1;32m/home/sig/Code/python_intro/2-5/2-5-1.ipynb Cell 16\u001b[0m line \u001b[0;36m2\n\u001b[1;32m     <a href='vscode-notebook-cell:/home/sig/Code/python_intro/2-5/2-5-1.ipynb#X21sZmlsZQ%3D%3D?line=16'>17</a>\u001b[0m \u001b[39m\u001b[39m\u001b[39m\"\"\"\u001b[39;00m\n\u001b[1;32m     <a href='vscode-notebook-cell:/home/sig/Code/python_intro/2-5/2-5-1.ipynb#X21sZmlsZQ%3D%3D?line=17'>18</a>\u001b[0m \u001b[39mSet the radius of the circle.\u001b[39;00m\n\u001b[1;32m     <a href='vscode-notebook-cell:/home/sig/Code/python_intro/2-5/2-5-1.ipynb#X21sZmlsZQ%3D%3D?line=18'>19</a>\u001b[0m \n\u001b[1;32m     <a href='vscode-notebook-cell:/home/sig/Code/python_intro/2-5/2-5-1.ipynb#X21sZmlsZQ%3D%3D?line=19'>20</a>\u001b[0m \u001b[39mParams:\u001b[39;00m\n\u001b[1;32m     <a href='vscode-notebook-cell:/home/sig/Code/python_intro/2-5/2-5-1.ipynb#X21sZmlsZQ%3D%3D?line=20'>21</a>\u001b[0m \u001b[39m    radius, Union(int, float), optional: defaults to 1.\u001b[39;00m\n\u001b[1;32m     <a href='vscode-notebook-cell:/home/sig/Code/python_intro/2-5/2-5-1.ipynb#X21sZmlsZQ%3D%3D?line=21'>22</a>\u001b[0m \u001b[39m\"\"\"\u001b[39;00m\n\u001b[1;32m     <a href='vscode-notebook-cell:/home/sig/Code/python_intro/2-5/2-5-1.ipynb#X21sZmlsZQ%3D%3D?line=23'>24</a>\u001b[0m \u001b[39mif\u001b[39;00m \u001b[39mnot\u001b[39;00m \u001b[39misinstance\u001b[39m(radius, (\u001b[39mint\u001b[39m, \u001b[39mfloat\u001b[39m)):\n\u001b[0;32m---> <a href='vscode-notebook-cell:/home/sig/Code/python_intro/2-5/2-5-1.ipynb#X21sZmlsZQ%3D%3D?line=24'>25</a>\u001b[0m     \u001b[39mraise\u001b[39;00m \u001b[39mTypeError\u001b[39;00m(\u001b[39mf\u001b[39m\u001b[39m\"\u001b[39m\u001b[39mRadius must be of type int or float\u001b[39m\u001b[39m\"\u001b[39m)\n\u001b[1;32m     <a href='vscode-notebook-cell:/home/sig/Code/python_intro/2-5/2-5-1.ipynb#X21sZmlsZQ%3D%3D?line=26'>27</a>\u001b[0m \u001b[39mif\u001b[39;00m radius \u001b[39m<\u001b[39m\u001b[39m=\u001b[39m \u001b[39m0\u001b[39m:\n\u001b[1;32m     <a href='vscode-notebook-cell:/home/sig/Code/python_intro/2-5/2-5-1.ipynb#X21sZmlsZQ%3D%3D?line=27'>28</a>\u001b[0m     \u001b[39mraise\u001b[39;00m \u001b[39mValueError\u001b[39;00m(\u001b[39m\"\u001b[39m\u001b[39mRadius must be positive\u001b[39m\u001b[39m\"\u001b[39m)\n",
      "\u001b[0;31mTypeError\u001b[0m: Radius must be of type int or float"
     ]
    }
   ],
   "source": [
    "# Let's try to set an improper radius value and verify the proper exception is raised\n",
    "circ.set_radius(\"blargh\")"
   ]
  },
  {
   "cell_type": "markdown",
   "metadata": {},
   "source": [
    "### Summarizing our findings\n",
    "\n",
    "If this is your first time working with concepts in object-oriented programming, then this was probably a very difficult problem set for you. Good. It's meant to be tough, and I truly believe that you will rise to the challenge.\n",
    "\n",
    "Python classes have a variety of pre-defined [dunder methods](https://realpython.com/python-magic-methods/) like [\\_\\_repr\\_\\_](https://docs.python.org/3/reference/datamodel.html#object.__repr__). You've alread encountered one of them: the \\_\\_init\\_\\_ method. I'd encourage you to spend a few minutes looking at some of the other ones. \n",
    "\n",
    "When defining the \\_\\_repr\\_\\_ method, you might have wondered what the notation `!r` means. This is an explicit conversion flag that ensures the content it modifies is converted to a string, see https://peps.python.org/pep-3101/#explicit-conversion-flag.\n",
    "\n",
    "In this section, we've encountered a foundational challenge: whether the class is needed to simply store and structure (read: a container for) data, or to provide a set of operations for working with that data. Approach 1 fell more into the first category, while approach 2 fell (slightly) more into the second. The value of the first approach, as I pointed out at the beginning of the problem set, is when you need to access instance data more than update it; whereas, approach 2 might be more worthwhile when you are updating instance data with greater frequency. At this scale, we're unlikely to see much of a performance difference between the two.\n",
    "\n",
    "Python actually has a great shorthand for creating data container classes. These are called dataclasses, and they take care of a lot of boilerplate for you but have a slightly different syntax than a standard python function, see below for an example borrowed from [here](https://stackoverflow.com/a/47955313/13301284).\n",
    "\n",
    "```python\n",
    "from dataclasses import dataclass\n",
    "\n",
    "@dataclass(unsafe_hash=True)\n",
    "class InventoryItem:\n",
    "    '''Class for keeping track of an item in inventory.'''\n",
    "    name: str\n",
    "    unit_price: float\n",
    "    quantity_on_hand: int = 0\n",
    "\n",
    "    def total_cost(self) -> float:\n",
    "        return self.unit_price * self.quantity_on_hand\n",
    "```\n",
    "\n",
    "Interested in learning more about python data classes? Sweet, check out the following links:\n",
    "1. https://www.youtube.com/watch?v=CvQ7e6yUtnw\n",
    "2. https://stackoverflow.com/a/47955313/13301284\n",
    "3. https://docs.python.org/3/reference/datamodel.html#special-method-names\n",
    "4. https://peps.python.org/pep-0557/#abstract\n",
    "5. https://stackoverflow.com/a/50369898/13301284"
   ]
  }
 ],
 "metadata": {
  "kernelspec": {
   "display_name": "venv",
   "language": "python",
   "name": "python3"
  },
  "language_info": {
   "codemirror_mode": {
    "name": "ipython",
    "version": 3
   },
   "file_extension": ".py",
   "mimetype": "text/x-python",
   "name": "python",
   "nbconvert_exporter": "python",
   "pygments_lexer": "ipython3",
   "version": "3.8.10"
  }
 },
 "nbformat": 4,
 "nbformat_minor": 2
}
